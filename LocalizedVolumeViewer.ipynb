{
  "nbformat": 4,
  "nbformat_minor": 0,
  "metadata": {
    "colab": {
      "name": "LocalizedVolumeViewer.ipynb",
      "provenance": [],
      "authorship_tag": "ABX9TyMVbSqGUFV5B2ShPouQeCio",
      "include_colab_link": true
    },
    "kernelspec": {
      "name": "python3",
      "display_name": "Python 3"
    },
    "language_info": {
      "name": "python"
    }
  },
  "cells": [
    {
      "cell_type": "markdown",
      "metadata": {
        "id": "view-in-github",
        "colab_type": "text"
      },
      "source": [
        "<a href=\"https://colab.research.google.com/github/alisamalb/LV-view/blob/main/LocalizedVolumeViewer.ipynb\" target=\"_parent\"><img src=\"https://colab.research.google.com/assets/colab-badge.svg\" alt=\"Open In Colab\"/></a>"
      ]
    },
    {
      "cell_type": "markdown",
      "metadata": {
        "id": "Y1QYThFA7J3I"
      },
      "source": [
        "# Localized Volume Visualization script\n",
        "By Simone Albani\n",
        "\n",
        "*inspired by*\n",
        "### An Enhanced Sampling Approach to the Induced Fit Docking Problem in Protein-Ligand Binding: the case of mono-ADP-ribosylation hydrolases inhibitors\n",
        "#####Qianqian Zhao, Riccardo Capelli, Paolo Carloni, Bernhard Lüscher, Jinyu Li, Giulia Rossetti\n",
        "\n",
        "<img src=\"https://www.biorxiv.org/content/biorxiv/early/2021/05/08/2021.05.08.443251/F1.medium.gif\">\n",
        "\n",
        "\n"
      ]
    },
    {
      "cell_type": "code",
      "metadata": {
        "id": "xFaA6BdS9Dyd"
      },
      "source": [
        "#@title Load libraries and functions\n",
        "\n",
        "import scipy\n",
        "from google.colab import files\n",
        "import numpy as np\n",
        "class Structure:\n",
        "\tdef __init__(self):\n",
        "\t\tself.atomlines=0\n",
        "\t\tself.atoms=[]\n",
        "\t\tself.coord=''\n",
        "\tdef addAtom(self,resname,name,x,y,z):\n",
        "\t\tif len(self.atoms)>0:\n",
        "\t\t\tresnr=self.atoms[-1].resnr+1\n",
        "\t\telse:\n",
        "\t\t\tresnr=1\n",
        "\t\tnumber=(len(self.atoms)+1)%99999\n",
        "\t\tself.atoms.append(Atom(\"%5d%-5s%5s%5d%8.3f%8.3f%8.3f\" % (resnr,resname,name,number,x,y,z)))\n",
        "\tdef write(self, path):\n",
        "\t\tf=open(path,\"w\")\n",
        "\t\tf.write(\"GROMACS\\n\")\n",
        "\t\tf.write(str(len(self.atoms))+\"\\n\")\n",
        "\t\tfor a in self.atoms:\n",
        "\t\t\tf.write(\"%5d%-5s%5s%5d%8.3f%8.3f%8.3f\\n\" % (a.resnr,a.resname,a.name,a.number,a.x,a.y,a.z) )\n",
        "\t\tf.write(self.coord)\n",
        "\t\tf.close()\n",
        "\t\t\t\n",
        "class Atom:\n",
        " def __init__(self,line):\n",
        "\t\tself.resnr=int(line[:5])%99999\n",
        "\t\tself.resname=line[5:10]\n",
        "\t\tself.name=line[10:15]\n",
        "\t\tself.number=int(line[15:20])\n",
        "\t\tself.x=float(line[20:28])\n",
        "\t\tself.y=float(line[28:36])\n",
        "\t\tself.z=float(line[36:44])\n",
        " def rotate(self,rotation,COM1):\n",
        "    self.x-=COM1[0]\n",
        "    self.y-=COM1[1]\n",
        "    self.z-=COM1[2]\n",
        "    coord=np.array(np.array([self.x,self.y,self.z]))\n",
        "    coord=rotation.apply(coord)\n",
        "    self.x=coord[0]+COM1[0]\n",
        "    self.y=coord[1]+COM1[1]\n",
        "    self.z=coord[2]+COM1[2]\n",
        "\n",
        "def fixed_string(string,length):\n",
        "\treturn \" \"*(length-len(str(string)))+str(string)\n",
        "def read_index(path):\n",
        "\t'''Imports a .ndx files and returns a 2-row array of the group names and atom IDs'''\n",
        "\tfile=open(path,\"r\").readlines()\n",
        "\tfile=''.join(' '.join(file).split('\\n'))\n",
        "\tfile=file.split('[')\n",
        "\tfile=[x for x in file if len(x)>0]\n",
        "\tnames=[x.split(']')[0] for x in file]\n",
        "\tindex=[x.split(']')[1] for x in file]\n",
        "\tindex=[x.split(' ') for x in index]\n",
        "\tindex=[[int(y) for y in x if len(y)>0] for x in index]\n",
        "\treturn [names,index]\n",
        "\n",
        "def read_structure(path):\n",
        "\t'''reads a .gro and outputs a Structure object'''\n",
        "\tfile=open(path,\"r\").readlines()\n",
        "\tfile=[x for x in file if len(x)>0] #removes empty lines\n",
        "\tstructure=Structure()\n",
        "\tstructure.atoms=[Atom(x) for x in file[2:-1]]\n",
        "\tstructure.atomlines=int(file[1])\n",
        "\tstructure.coord=file[-1]\n",
        "\treturn structure\n",
        "\n",
        "def geom_center(atoms, index):\n",
        "\t# Calculate the geometric center of the atoms selectted\n",
        "\t#  from the \"atoms\" list using the index\n",
        "\n",
        "\tsel_atoms=[atoms[x-1] for x in index]\n",
        "\tsum_x=sum([a.x for a in sel_atoms])/len(sel_atoms)\n",
        "\tsum_y=sum([a.y for a in sel_atoms])/len(sel_atoms)\n",
        "\tsum_z=sum([a.z for a in sel_atoms])/len(sel_atoms)\n",
        "\treturn (sum_x, sum_y, sum_z)\n",
        "\n",
        "def calculate_axis(atoms,index):\n",
        "\t# Manage user input in the selection of Molecule A\n",
        "\t# and Molecule B using a .gro file and .ndx file.\n",
        "\t# The output is the geometric center of the two.\n",
        "\n",
        "\tprint(\"Select molecule A\")\n",
        "\tfor i in range(len(index[0])):\n",
        "\t\tprint(str(i)+\". \"+index[0][i])\n",
        "\tmol_A=int(input(\"\\nSelect group: \"))\n",
        "\tprint(\"----\\nSelect molecule B\")\n",
        "\tfor i in range(len(index[0])):\n",
        "                print(str(i)+\". \"+index[0][i])\n",
        "\tmol_B=int(input(\"\\nSelect group: \"))\n",
        "\tA_center=geom_center(atoms,index[1][mol_A])\n",
        "\tB_center=geom_center(atoms,index[1][mol_B])\n",
        "\treturn (A_center,B_center)\n",
        "\n",
        "def write_sphere(structure, rho, maxtau,COM1):\n",
        "\t# Create a grid of dummy atoms in space\n",
        "\t# to depict the LV volume\n",
        "\n",
        "\tj=np.linspace(-rho,rho,int(rho*50))\n",
        "\tfor x in j:\n",
        "\t\tfor y in j:\n",
        "\t\t\tif not (np.sqrt(x*x+y*y)>rho):\n",
        "\t\t\t\tfor sign in [-1,1]:\n",
        "\t\t\t\t\tz=sign*np.sqrt(-x*x-y*y+rho*rho)\n",
        "\t\t\t\t\tposition=(x+COM1[0],y+COM1[1],z+COM1[2])\n",
        "\t\t\t\t\ttheta=np.arctan2(z,y)\n",
        "\t\t\t\t\tdistance=np.sqrt(x*x+y*y+z*z)\n",
        "\t\t\t\t\ttau=np.sqrt(-x+distance)\n",
        "\t\t\t\t\ttaulim=maxtau\n",
        "\t\t\t\t\tif  tau<taulim:\n",
        "\t\t\t\t\t\tstructure.addAtom(\"DUM\",\"DUM\",position[0],position[1],position[2])\n",
        "\t\t\t\t\tif taulim-0.005<tau<taulim+.005:\n",
        "\t\t\t\t\t\tfor i in range(int(rho)*10):\n",
        "\t\t\t\t\t\t\tstructure.addAtom(\"DUM\",\"DUM\",x*(i/rho/10)+COM1[0],y*np.sqrt(i/rho/10)+COM1[1],np.sqrt(i/rho/10)*z+COM1[2])\n",
        "\n",
        "def create_protein_index(structure, rho, maxtau, COM1):\n",
        "\t# Create a new entry of all the atoms of Molecule A\n",
        "\t# within the volume. Usueful to apply RMSD restraint\n",
        "\t# to all the atoms outside\n",
        "\n",
        "\tpass\n",
        "\t\n",
        "def suggest_rotation(COM1,COM2):\n",
        "\t# Calculate the rotation around the z-ax that minimized the\n",
        "\t# distance between the  COM2 and the x-axis (a.k.a. the central\n",
        "\t# ax of the volume)\n",
        "\n",
        "\tvector=[COM1[0]-COM2[0],COM1[1]-COM2[1],COM1[2]-COM2[2]]\t\t\n",
        "\tprint(\"The COM1 -> COM2 vector is {}\".format(vector))\n",
        "\tdist=np.sqrt(vector[0]**2+vector[1]**2)\n",
        "\trot=-np.arcsin(vector[1]/dist)*180/3.14\n",
        "\tprint(\"The suggested rotation is 0 0 \"+str(rot)+\" degrees.\")\n",
        "\tprint(\"The initial tau angle is \"+str(np.sqrt(vector[0]+dist)))\n",
        " \n",
        "def calculate_rotation(COM1,COM2,Membrane=True):\n",
        "   vector=np.array([COM1[0]-COM2[0],COM1[1]-COM2[1],COM1[2]-COM2[2]])\n",
        "   vector_length=np.sqrt(vector.dot(vector))\n",
        "   ref_vector=np.array([vector_length,0,0]).reshape((1,3))\n",
        "   return scipy.spatial.transform.Rotation.align_vectors(vector.reshape((1,3)),ref_vector)\n"
      ],
      "execution_count": 66,
      "outputs": []
    },
    {
      "cell_type": "code",
      "metadata": {
        "colab": {
          "resources": {
            "http://localhost:8080/nbextensions/google.colab/files.js": {
              "data": "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",
              "ok": true,
              "headers": [
                [
                  "content-type",
                  "application/javascript"
                ]
              ],
              "status": 200,
              "status_text": "OK"
            }
          },
          "base_uri": "https://localhost:8080/",
          "height": 301
        },
        "id": "v4SAB3cC9DrX",
        "cellView": "form",
        "outputId": "d4955827-6e3e-426f-b741-1a1c5cc02e0e"
      },
      "source": [
        "#@title Upload reference and index file\n",
        "\n",
        "print(\"===============================================\")\n",
        "print(\"======= Upload reference in .gro format =======\")\n",
        "print(\"== It should only include protein and ligand ==\")\n",
        "print(\"===============================================\")\n",
        "uploadedA = files.upload()\n",
        "for fn in uploadedA.keys():\n",
        "  !mv {fn} reference.gro\n",
        "print(\"\")\n",
        "print(\"======================================================================\")\n",
        "print(\"==================== Upload index in .ndx format =====================\")\n",
        "print(\"== It should only include information abut protein and ligand atoms ==\")\n",
        "print(\"======================================================================\")\n",
        "uploadedB = files.upload()\n",
        "for fn in uploadedB.keys():\n",
        "  !mv {fn} index.ndx"
      ],
      "execution_count": 5,
      "outputs": [
        {
          "output_type": "stream",
          "text": [
            "===============================================\n",
            "======= Upload reference in .gro format =======\n",
            "== It should only include protein and ligand ==\n",
            "===============================================\n"
          ],
          "name": "stdout"
        },
        {
          "output_type": "display_data",
          "data": {
            "text/html": [
              "\n",
              "     <input type=\"file\" id=\"files-c804004b-030e-46e0-9c6f-12b847d47940\" name=\"files[]\" multiple disabled\n",
              "        style=\"border:none\" />\n",
              "     <output id=\"result-c804004b-030e-46e0-9c6f-12b847d47940\">\n",
              "      Upload widget is only available when the cell has been executed in the\n",
              "      current browser session. Please rerun this cell to enable.\n",
              "      </output>\n",
              "      <script src=\"/nbextensions/google.colab/files.js\"></script> "
            ],
            "text/plain": [
              "<IPython.core.display.HTML object>"
            ]
          },
          "metadata": {}
        },
        {
          "output_type": "stream",
          "text": [
            "Saving volume_reference.gro to volume_reference.gro\n",
            "\n",
            "======================================================================\n",
            "==================== Upload index in .ndx format =====================\n",
            "== It should only include information abut protein and ligand atoms ==\n",
            "======================================================================\n"
          ],
          "name": "stdout"
        },
        {
          "output_type": "display_data",
          "data": {
            "text/html": [
              "\n",
              "     <input type=\"file\" id=\"files-db38578b-281c-49ba-b86b-ce5f5eae4989\" name=\"files[]\" multiple disabled\n",
              "        style=\"border:none\" />\n",
              "     <output id=\"result-db38578b-281c-49ba-b86b-ce5f5eae4989\">\n",
              "      Upload widget is only available when the cell has been executed in the\n",
              "      current browser session. Please rerun this cell to enable.\n",
              "      </output>\n",
              "      <script src=\"/nbextensions/google.colab/files.js\"></script> "
            ],
            "text/plain": [
              "<IPython.core.display.HTML object>"
            ]
          },
          "metadata": {}
        },
        {
          "output_type": "stream",
          "text": [
            "Saving volume_index.ndx to volume_index.ndx\n"
          ],
          "name": "stdout"
        }
      ]
    },
    {
      "cell_type": "code",
      "metadata": {
        "colab": {
          "base_uri": "https://localhost:8080/"
        },
        "id": "i2CT-GTw_0jH",
        "outputId": "c38a0c28-fbf6-492b-e396-581fb0eff073"
      },
      "source": [
        "#@title Create the volume\n",
        "rho=5 #@param {type:\"slider\", min:2, max:7, step:0.1}\n",
        "maxtau=1.2 #@param {type:\"slider\", min:1.2, max:1.5, step:0.1}\n",
        "\n",
        "index=read_index(\"index.ndx\")\n",
        "structure=read_structure(\"reference.gro\")\n",
        "COM1,COM2=calculate_axis(structure.atoms,index)\n",
        "suggest_rotation(COM1,COM2)\n",
        "print(\"The COM1 is {}\".format(COM1))\n",
        "\n",
        "volume=Structure()\n",
        "volume.coord=structure.coord\n",
        "write_sphere(volume,rho,maxtau,COM1)\n",
        "volume.write(\"volume.gro\")\n",
        "\n",
        "r=calculate_rotation(COM1,COM2,True)[0]\n",
        "[x.rotate(r,COM1) for x in structure.atoms]\n",
        "structure.write(\"reference_rotated.gro\")"
      ],
      "execution_count": 67,
      "outputs": [
        {
          "output_type": "stream",
          "text": [
            "Select molecule A\n",
            "0.  System \n",
            "1.  Protein \n",
            "2.  Protein-H \n",
            "3.  C-alpha \n",
            "4.  Backbone \n",
            "5.  MainChain \n",
            "6.  MainChain+Cb \n",
            "7.  MainChain+H \n",
            "8.  SideChain \n",
            "9.  SideChain-H \n",
            "10.  Prot-Masses \n",
            "11.  non-Protein \n",
            "12.  Other \n",
            "13.  X77 \n",
            "\n",
            "Select group: 1\n",
            "----\n",
            "Select molecule B\n",
            "0.  System \n",
            "1.  Protein \n",
            "2.  Protein-H \n",
            "3.  C-alpha \n",
            "4.  Backbone \n",
            "5.  MainChain \n",
            "6.  MainChain+Cb \n",
            "7.  MainChain+H \n",
            "8.  SideChain \n",
            "9.  SideChain-H \n",
            "10.  Prot-Masses \n",
            "11.  non-Protein \n",
            "12.  Other \n",
            "13.  X77 \n",
            "\n",
            "Select group: 13\n",
            "The COM1 -> COM2 vector is [-2.1781906029442695, 0.19521428844669675, -1.262710367428137]\n",
            "The suggested rotation is 0 0 -5.123890434353424 degrees.\n",
            "The initial tau angle is 0.09343593423585322\n",
            "The COM1 is (7.271884023921402, 7.042751601879533, 7.134797095258432)\n"
          ],
          "name": "stdout"
        },
        {
          "output_type": "stream",
          "text": [
            "/usr/local/lib/python3.7/dist-packages/scipy/spatial/transform/rotation.py:1953: UserWarning: Optimal rotation is not uniquely or poorly defined for the given sets of vectors.\n",
            "  warnings.warn(\"Optimal rotation is not uniquely or poorly defined \"\n"
          ],
          "name": "stderr"
        }
      ]
    },
    {
      "cell_type": "code",
      "metadata": {
        "colab": {
          "base_uri": "https://localhost:8080/",
          "height": 54
        },
        "id": "R_RY_OErDGlE",
        "outputId": "ab9529af-206e-4208-cdac-9eac50fa28a7"
      },
      "source": [
        "#@title Download the volume\n",
        "!zip LView.zip volume.gro reference_rotated.gro\n",
        "files.download(\"LView.zip\")\n",
        "\n"
      ],
      "execution_count": 69,
      "outputs": [
        {
          "output_type": "stream",
          "text": [
            "updating: volume.gro (deflated 78%)\n",
            "updating: reference_rotated.gro (deflated 71%)\n"
          ],
          "name": "stdout"
        },
        {
          "output_type": "display_data",
          "data": {
            "application/javascript": [
              "\n",
              "    async function download(id, filename, size) {\n",
              "      if (!google.colab.kernel.accessAllowed) {\n",
              "        return;\n",
              "      }\n",
              "      const div = document.createElement('div');\n",
              "      const label = document.createElement('label');\n",
              "      label.textContent = `Downloading \"${filename}\": `;\n",
              "      div.appendChild(label);\n",
              "      const progress = document.createElement('progress');\n",
              "      progress.max = size;\n",
              "      div.appendChild(progress);\n",
              "      document.body.appendChild(div);\n",
              "\n",
              "      const buffers = [];\n",
              "      let downloaded = 0;\n",
              "\n",
              "      const channel = await google.colab.kernel.comms.open(id);\n",
              "      // Send a message to notify the kernel that we're ready.\n",
              "      channel.send({})\n",
              "\n",
              "      for await (const message of channel.messages) {\n",
              "        // Send a message to notify the kernel that we're ready.\n",
              "        channel.send({})\n",
              "        if (message.buffers) {\n",
              "          for (const buffer of message.buffers) {\n",
              "            buffers.push(buffer);\n",
              "            downloaded += buffer.byteLength;\n",
              "            progress.value = downloaded;\n",
              "          }\n",
              "        }\n",
              "      }\n",
              "      const blob = new Blob(buffers, {type: 'application/binary'});\n",
              "      const a = document.createElement('a');\n",
              "      a.href = window.URL.createObjectURL(blob);\n",
              "      a.download = filename;\n",
              "      div.appendChild(a);\n",
              "      a.click();\n",
              "      div.remove();\n",
              "    }\n",
              "  "
            ],
            "text/plain": [
              "<IPython.core.display.Javascript object>"
            ]
          },
          "metadata": {}
        },
        {
          "output_type": "display_data",
          "data": {
            "application/javascript": [
              "download(\"download_6e4070f9-97ce-48a9-a803-4aa3534a90cf\", \"LView.zip\", 692635)"
            ],
            "text/plain": [
              "<IPython.core.display.Javascript object>"
            ]
          },
          "metadata": {}
        }
      ]
    },
    {
      "cell_type": "code",
      "metadata": {
        "id": "tSfnOTzd1-aJ"
      },
      "source": [
        ""
      ],
      "execution_count": 50,
      "outputs": []
    }
  ]
}